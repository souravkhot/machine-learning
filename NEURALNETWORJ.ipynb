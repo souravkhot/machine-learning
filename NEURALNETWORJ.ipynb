{
 "cells": [
  {
   "cell_type": "code",
   "execution_count": 1,
   "id": "a1eb5f0d-4be4-46ad-aba7-1231e9a879c3",
   "metadata": {},
   "outputs": [
    {
     "name": "stdout",
     "output_type": "stream",
     "text": [
      "All packages installed successfully!\n"
     ]
    }
   ],
   "source": [
    "import numpy as np  \n",
    "import pandas as pd  \n",
    "import matplotlib.pyplot as plt  \n",
    "import seaborn as sns  \n",
    "from sklearn.model_selection import train_test_split  \n",
    "from sklearn.linear_model import LinearRegression, SGDRegressor  \n",
    "from sklearn.metrics import mean_squared_error, r2_score  \n",
    "from sklearn.datasets import fetch_california_housing  \n",
    "import torch as tp\n",
    "import torchvision as tc\n",
    "import PIL as pl\n",
    "print(\"All packages installed successfully!\")"
   ]
  },
  {
   "cell_type": "code",
   "execution_count": 2,
   "id": "24054ac1-c459-4fe7-b93e-c8ec6b034dd5",
   "metadata": {},
   "outputs": [],
   "source": [
    "import torch\n",
    "import torch.nn as nn  # Neural network module\n",
    "import torch.optim as optim  # Optimization algorithms\n",
    "from torchvision import datasets, transforms  # Datasets and transformations\n",
    "from torch.utils.data import DataLoader  # Data loading utilities\n",
    "import matplotlib.pyplot as plt  # Plotting library\n",
    "import numpy as np  # Numerical computations\n",
    "from PIL import Image  # Image processing\n",
    "import tkinter as tk  # GUI for file upload\n",
    "from tkinter import filedialog  # File dialog for selecting images\n",
    "from sklearn.metrics import confusion_matrix  # Confusion matrix for evaluation\n",
    "import seaborn as sns  # Visualization library\n",
    "from sklearn.metrics import accuracy_score, precision_score, recall_score, f1_score, classification_report  # Metrics for evaluation"
   ]
  },
  {
   "cell_type": "code",
   "execution_count": 3,
   "id": "a3cf10ba-4e6e-4c9b-a76c-b3031ad3f42e",
   "metadata": {},
   "outputs": [],
   "source": [
    "# Define a transformation pipeline for the dataset\n",
    "# transforms.Compose allows chaining multiple transformations\n",
    "transform = transforms.Compose([\n",
    "    transforms.ToTensor(),  # Convert images to PyTorch tensors\n",
    "    transforms.Normalize((0.5,), (0.5,))  # Normalize the tensor with mean 0.5 and std 0.5\n",
    "])\n",
    "\n",
    "# Load the MNIST training dataset\n",
    "train_dataset = datasets.MNIST(root='./data', train=True, transform=transform, download=True)\n",
    "# Load the MNIST test dataset\n",
    "test_dataset = datasets.MNIST(root='./data', train=False, transform=transform, download=True)"
   ]
  },
  {
   "cell_type": "code",
   "execution_count": 4,
   "id": "70683136-3b37-47df-a020-4e1e6657500f",
   "metadata": {},
   "outputs": [],
   "source": [
    "# Create data loaders for training and testing\n",
    "train_loader = DataLoader(train_dataset, batch_size=32, shuffle=True)  # Shuffle training data\n",
    "test_loader = DataLoader(test_dataset, batch_size=32, shuffle=False)  # No need to shuffle test data"
   ]
  },
  {
   "cell_type": "code",
   "execution_count": 5,
   "id": "8305e859-cab8-4e21-a5c0-04cc505cfab1",
   "metadata": {},
   "outputs": [],
   "source": [
    "# Define a Multi-Layer Perceptron (MLP) model\n",
    "class MLP(nn.Module):\n",
    "    def __init__(self):\n",
    "        super(MLP, self).__init__()\n",
    "        self.fc1 = nn.Linear(28*28, 16)  # First fully connected layer (input: 28x28, output: 16)\n",
    "        self.fc2 = nn.Linear(16, 16)  # Second fully connected layer (input: 16, output: 16)\n",
    "        self.fc3 = nn.Linear(16, 10)  # Third fully connected layer (input: 16, output: 10)\n",
    "        self.relu = nn.ReLU()  # ReLU activation function\n",
    "        self.softmax = nn.LogSoftmax(dim=1)  # LogSoftmax for classification\n",
    "\n",
    "    def forward(self, x):\n",
    "        x = x.view(-1, 28*28)  # Flatten the input image into a 1D vector\n",
    "        x = self.relu(self.fc1(x))  # Apply ReLU to the first layer\n",
    "        x = self.relu(self.fc2(x))  # Apply ReLU to the second layer\n",
    "        x = self.softmax(self.fc3(x))  # Apply LogSoftmax to the output layer\n",
    "        return x\n",
    "\n",
    "# Instantiate the model\n",
    "model = MLP()"
   ]
  },
  {
   "cell_type": "code",
   "execution_count": 6,
   "id": "6aac9501-3309-4a8e-b4ae-106e7b29e67c",
   "metadata": {},
   "outputs": [],
   "source": [
    "#Define the loss function and optimizer\n",
    "criterion = nn.CrossEntropyLoss() #Cross entropy loss for classification\n",
    "optimizer = optim.Adam(model.parameters(), lr=0.001) #Adam optimizer with learning rate 0.001"
   ]
  },
  {
   "cell_type": "code",
   "execution_count": 7,
   "id": "6b1b1b9d-24d5-43d3-a47f-f06b4a8cbc62",
   "metadata": {},
   "outputs": [
    {
     "name": "stdout",
     "output_type": "stream",
     "text": [
      "Epoch 1/10, Train Loss: 0.5650, Test Loss: 0.3248\n",
      "Epoch 2/10, Train Loss: 0.3242, Test Loss: 0.2851\n",
      "Epoch 3/10, Train Loss: 0.2856, Test Loss: 0.2597\n",
      "Epoch 4/10, Train Loss: 0.2614, Test Loss: 0.2531\n",
      "Epoch 5/10, Train Loss: 0.2432, Test Loss: 0.2453\n",
      "Epoch 6/10, Train Loss: 0.2315, Test Loss: 0.2286\n",
      "Epoch 7/10, Train Loss: 0.2206, Test Loss: 0.2130\n",
      "Epoch 8/10, Train Loss: 0.2130, Test Loss: 0.2053\n",
      "Epoch 9/10, Train Loss: 0.2055, Test Loss: 0.2144\n",
      "Epoch 10/10, Train Loss: 0.2008, Test Loss: 0.2123\n"
     ]
    }
   ],
   "source": [
    "# Lists to store training and testing losses\n",
    "train_losses, test_losses = [], []\n",
    "\n",
    "# Training loop\n",
    "epochs = 10  # Number of training epochs\n",
    "for epoch in range(epochs):\n",
    "    model.train()  # Set the model to training mode\n",
    "    running_loss = 0.0  # Initialize running loss for the epoch\n",
    "    for images, labels in train_loader:\n",
    "        optimizer.zero_grad()  # Clear gradients from the previous iteration\n",
    "        output = model(images)  # Forward pass: compute predictions\n",
    "        loss = criterion(output, labels)  # Compute the loss\n",
    "        loss.backward()  # Backward pass: compute gradients\n",
    "        optimizer.step()  # Update model parameters\n",
    "        running_loss += loss.item()  # Accumulate the loss\n",
    "    train_loss = running_loss / len(train_loader)  # Average loss for the epoch\n",
    "    train_losses.append(train_loss)  # Store training loss\n",
    "\n",
    "    # Evaluation on the test set\n",
    "    model.eval()  # Set the model to evaluation mode\n",
    "    test_loss = 0.0  # Initialize test loss\n",
    "    with torch.no_grad():  # Disable gradient computation for evaluation\n",
    "        for images, labels in test_loader:\n",
    "            output = model(images)  # Forward pass: compute predictions\n",
    "            loss = criterion(output, labels)  # Compute the loss\n",
    "            test_loss += loss.item()  # Accumulate the loss\n",
    "    test_loss = test_loss / len(test_loader)  # Average test loss\n",
    "    test_losses.append(test_loss)  # Store test loss\n",
    "\n",
    "    # Print epoch results\n",
    "    print(f'Epoch {epoch+1}/{epochs}, Train Loss: {train_loss:.4f}, Test Loss: {test_loss:.4f}')"
   ]
  },
  {
   "cell_type": "code",
   "execution_count": 9,
   "id": "61dd705c-bc5e-4b20-8bc6-30f8a2b3ac56",
   "metadata": {},
   "outputs": [
    {
     "data": {
      "image/png": "[encoded data removed]",
      "text/plain": [
       "<Figure size 640x480 with 1 Axes>"
      ]
     },
     "metadata": {},
     "output_type": "display_data"
    }
   ],
   "source": [
    "# Plot training and test losses\n",
    "plt.plot(train_losses, label='Training Loss')\n",
    "plt.plot(test_losses, label='Test Loss')\n",
    "plt.xlabel('Epochs')\n",
    "plt.ylabel('Loss')\n",
    "plt.legend()\n",
    "plt.title('Training vs Test Loss')\n",
    "plt.show()"
   ]
  },
  {
   "cell_type": "code",
   "execution_count": 10,
   "id": "d66403c7-6b4f-4dba-a13b-66b702b93b73",
   "metadata": {},
   "outputs": [
    {
     "name": "stdout",
     "output_type": "stream",
     "text": [
      "Accuracy: 0.9416\n",
      "Precision: 0.9423\n",
      "Recall: 0.9400\n",
      "F1-Score: 0.9404\n",
      "\n",
      "Classification Report:\n",
      "              precision    recall  f1-score   support\n",
      "\n",
      "           0       0.91      0.99      0.95       980\n",
      "           1       0.99      0.97      0.98      1135\n",
      "           2       0.95      0.94      0.95      1032\n",
      "           3       0.88      0.95      0.91      1010\n",
      "           4       0.95      0.95      0.95       982\n",
      "           5       0.96      0.84      0.89       892\n",
      "           6       0.97      0.92      0.94       958\n",
      "           7       0.94      0.96      0.95      1028\n",
      "           8       0.93      0.93      0.93       974\n",
      "           9       0.95      0.93      0.94      1009\n",
      "\n",
      "    accuracy                           0.94     10000\n",
      "   macro avg       0.94      0.94      0.94     10000\n",
      "weighted avg       0.94      0.94      0.94     10000\n",
      "\n"
     ]
    }
   ],
   "source": [
    "# Evaluate the model on the test set\n",
    "model.eval()  # Set the model to evaluation mode\n",
    "y_true, y_pred = [], []  # Lists to store true and predicted labels\n",
    "with torch.no_grad():  # Disable gradient computation\n",
    "    for images, labels in test_loader:\n",
    "        output = model(images)  # Forward pass: compute predictions\n",
    "        _, predicted = torch.max(output, 1)  # Get the predicted class\n",
    "        y_true.extend(labels.numpy())  # Store true labels\n",
    "        y_pred.extend(predicted.numpy())  # Store predicted labels\n",
    "\n",
    "# Calculate evaluation metrics\n",
    "accuracy = accuracy_score(y_true, y_pred)  # Accuracy\n",
    "precision = precision_score(y_true, y_pred, average='macro')  # Precision\n",
    "recall = recall_score(y_true, y_pred, average='macro')  # Recall\n",
    "f1 = f1_score(y_true, y_pred, average='macro')  # F1-Score\n",
    "\n",
    "# Print metrics\n",
    "print(f'Accuracy: {accuracy:.4f}')\n",
    "print(f'Precision: {precision:.4f}')\n",
    "print(f'Recall: {recall:.4f}')\n",
    "print(f'F1-Score: {f1:.4f}')\n",
    "\n",
    "# Print detailed classification report\n",
    "print(\"\\nClassification Report:\")\n",
    "print(classification_report(y_true, y_pred, target_names=[str(i) for i in range(10)]))"
   ]
  },
  {
   "cell_type": "code",
   "execution_count": 1,
   "id": "0a4a67ca-c98b-4a99-8cc1-7923afd646da",
   "metadata": {},
   "outputs": [
    {
     "ename": "NameError",
     "evalue": "name 'confusion_matrix' is not defined",
     "output_type": "error",
     "traceback": [
      "\u001b[31m---------------------------------------------------------------------------\u001b[39m",
      "\u001b[31mNameError\u001b[39m                                 Traceback (most recent call last)",
      "\u001b[36mCell\u001b[39m\u001b[36m \u001b[39m\u001b[32mIn[1]\u001b[39m\u001b[32m, line 2\u001b[39m\n\u001b[32m      1\u001b[39m \u001b[38;5;66;03m# Plot confusion matrix\u001b[39;00m\n\u001b[32m----> \u001b[39m\u001b[32m2\u001b[39m cm = \u001b[43mconfusion_matrix\u001b[49m(y_true, y_pred)\n\u001b[32m      3\u001b[39m plt.figure(figsize=(\u001b[32m10\u001b[39m, \u001b[32m8\u001b[39m))\n\u001b[32m      4\u001b[39m sns.heatmap(cm, annot=\u001b[38;5;28;01mTrue\u001b[39;00m, fmt=\u001b[33m'\u001b[39m\u001b[33md\u001b[39m\u001b[33m'\u001b[39m, cmap=\u001b[33m'\u001b[39m\u001b[33mBlues\u001b[39m\u001b[33m'\u001b[39m, xticklabels=\u001b[38;5;28mrange\u001b[39m(\u001b[32m10\u001b[39m), yticklabels=\u001b[38;5;28mrange\u001b[39m(\u001b[32m10\u001b[39m))\n",
      "\u001b[31mNameError\u001b[39m: name 'confusion_matrix' is not defined"
     ]
    }
   ],
   "source": [
    "# Plot confusion matrix\n",
    "cm = confusion_matrix(y_true, y_pred)\n",
    "plt.figure(figsize=(10, 8))\n",
    "sns.heatmap(cm, annot=True, fmt='d', cmap='Blues', xticklabels=range(10), yticklabels=range(10))\n",
    "plt.xlabel('Predicted')\n",
    "plt.ylabel('True')\n",
    "plt.title('Confusion Matrix')\n",
    "plt.show()\n",
    "\n",
    "# Function to predict an image using the trained model\n",
    "def predict_image(image):\n",
    "    image = image.view(-1, 28*28)  # Flatten the input image\n",
    "    with torch.no_grad():  # Disable gradient computation\n",
    "        output = model(image)  # Forward pass: compute predictions\n",
    "        _, predicted = torch.max(output, 1)  # Get the predicted class\n",
    "    return predicted.item()  # Return the predicted label\n",
    "\n",
    "# Select a random image from the test set\n",
    "sample_idx = np.random.randint(len(test_dataset))\n",
    "sample_image, sample_label = test_dataset[sample_idx]\n",
    "\n",
    "# Display the selected image\n",
    "plt.imshow(sample_image.squeeze(), cmap=\"gray\")\n",
    "plt.title(f\"Actual Label: {sample_label}\")\n",
    "plt.show()\n",
    "\n",
    "# Run inference on the selected image\n",
    "predicted_label = predict_image(sample_image)\n",
    "print(f\"Predicted Label: {predicted_label}\")\n",
    "\n",
    "# Function to predict an uploaded image\n",
    "def predict_image(image):\n",
    "    image = image.convert('L').resize((28, 28))  # Convert to grayscale and resize to 28x28\n",
    "    image = transforms.ToTensor()(image).view(-1, 28*28)  # Convert to tensor and flatten\n",
    "    with torch.no_grad():  # Disable gradient computation\n",
    "        output = model(image)  # Forward pass: compute predictions\n",
    "        _, predicted = torch.max(output, 1)  # Get the predicted class\n",
    "    return predicted.item()  # Return the predicted label\n",
    "\n",
    "# Function to upload an image and run inference\n",
    "def upload_and_predict():\n",
    "    root = tk.Tk()\n",
    "    root.withdraw()  # Hide the root window\n",
    "    file_path = filedialog.askopenfilename()  # Open file dialog to select an image\n",
    "    if file_path:\n",
    "        image = Image.open(file_path)  # Open the selected image\n",
    "        plt.imshow(image, cmap=\"gray\")  # Display the image\n",
    "        plt.title(\"Uploaded Image\")\n",
    "        plt.show()\n",
    "        predicted_label = predict_image(image)  # Predict the label\n",
    "        print(f\"Predicted Label: {predicted_label}\")\n",
    "\n",
    "# Call the upload function\n",
    "upload_and_predict()"
   ]
  },
  {
   "cell_type": "code",
   "execution_count": null,
   "id": "89778200-179f-4a5c-b4a7-fc3aca2995ca",
   "metadata": {},
   "outputs": [],
   "source": []
  },
  {
   "cell_type": "code",
   "execution_count": null,
   "id": "e4309cc1-e53d-434b-8e21-2429910d26ce",
   "metadata": {},
   "outputs": [],
   "source": []
  },
  {
   "cell_type": "code",
   "execution_count": null,
   "id": "241cd54a-cbf6-432f-af2f-5b3276f87a90",
   "metadata": {},
   "outputs": [],
   "source": []
  },
  {
   "cell_type": "code",
   "execution_count": null,
   "id": "5a391782-4d5f-4e02-937e-0d18ec00c7b3",
   "metadata": {},
   "outputs": [],
   "source": []
  }
 ],
 "metadata": {
  "kernelspec": {
   "display_name": "Python 3 (ipykernel)",
   "language": "python",
   "name": "python3"
  },
  "language_info": {
   "codemirror_mode": {
    "name": "ipython",
    "version": 3
   },
   "file_extension": ".py",
   "mimetype": "text/x-python",
   "name": "python",
   "nbconvert_exporter": "python",
   "pygments_lexer": "ipython3",
   "version": "3.13.2"
  }
 },
 "nbformat": 4,
 "nbformat_minor": 5
}
